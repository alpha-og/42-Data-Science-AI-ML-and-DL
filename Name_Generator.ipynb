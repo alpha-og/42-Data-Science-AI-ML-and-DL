{
  "nbformat": 4,
  "nbformat_minor": 0,
  "metadata": {
    "colab": {
      "provenance": [],
      "mount_file_id": "10rFGJf_JchSdyya-Irw4gderB7VY5Eow",
      "authorship_tag": "ABX9TyPqn5YRW8ih8a1qJonavctV",
      "include_colab_link": true
    },
    "kernelspec": {
      "name": "python3",
      "display_name": "Python 3"
    },
    "language_info": {
      "name": "python"
    }
  },
  "cells": [
    {
      "cell_type": "markdown",
      "metadata": {
        "id": "view-in-github",
        "colab_type": "text"
      },
      "source": [
        "<a href=\"https://colab.research.google.com/github/alpha-og/42-Data-Science-AI-ML-and-DL/blob/main/Name_Generator.ipynb\" target=\"_parent\"><img src=\"https://colab.research.google.com/assets/colab-badge.svg\" alt=\"Open In Colab\"/></a>"
      ]
    },
    {
      "cell_type": "code",
      "execution_count": 1,
      "metadata": {
        "id": "B3BYl4qk0rf7"
      },
      "outputs": [],
      "source": [
        "import torch\n",
        "import matplotlib.pyplot as plt\n",
        "import random\n",
        "%matplotlib inline"
      ]
    },
    {
      "cell_type": "code",
      "source": [
        "names = open(\"/content/drive/MyDrive/Datasets/names.txt\", \"r\").read().splitlines()\n",
        "random.shuffle(names)"
      ],
      "metadata": {
        "id": "C93h1saV1DZn"
      },
      "execution_count": 4,
      "outputs": []
    },
    {
      "cell_type": "code",
      "source": [
        "chrLUT = {s:i+1 for i,s in enumerate(sorted(list(set(\"\".join(word for word in names)))))}\n",
        "chrLUT[\".\"] = 0"
      ],
      "metadata": {
        "id": "PhmaJdzd1jt7"
      },
      "execution_count": 5,
      "outputs": []
    },
    {
      "cell_type": "code",
      "source": [
        "intLUT = {i:s for s,i in chrLUT.items()}"
      ],
      "metadata": {
        "id": "qzDTQjSV1kQv"
      },
      "execution_count": 6,
      "outputs": []
    },
    {
      "cell_type": "code",
      "source": [
        "def buildDataset(names, block_size):\n",
        "  X=[]\n",
        "  Y=[]\n",
        "  for name in names:\n",
        "    context = [0]*block_size\n",
        "    for character in name+\".\":\n",
        "      X.append(context)\n",
        "      Y.append(chrLUT[character])\n",
        "      context = context[1:] + [chrLUT[character]]\n",
        "  return torch.tensor(X), torch.tensor(Y)"
      ],
      "metadata": {
        "id": "7NRYaipcODTU"
      },
      "execution_count": 7,
      "outputs": []
    },
    {
      "cell_type": "code",
      "source": [
        "block_size = 1\n",
        "train_split = int(0.8*len(names))\n",
        "X_train, Y_train = buildDataset(names[:train_split], block_size)\n",
        "X_test, Y_test = buildDataset(names[train_split:], block_size)"
      ],
      "metadata": {
        "id": "p5DSFBRPO9vt"
      },
      "execution_count": 8,
      "outputs": []
    },
    {
      "cell_type": "code",
      "source": [
        "weights = torch.randn((27,27), requires_grad = True)"
      ],
      "metadata": {
        "id": "9f9VaK96SIfs"
      },
      "execution_count": 9,
      "outputs": []
    },
    {
      "cell_type": "code",
      "source": [
        "for i in range(100):\n",
        "  X_encoded = torch.nn.functional.one_hot(X_train, num_classes=27).squeeze(1).float()\n",
        "  logits = X_encoded @ weights\n",
        "  freq = logits.exp()\n",
        "  prob = freq/freq.sum(dim=1, keepdim=True)\n",
        "  loss = -prob[torch.arange(X_train.nelement()),Y_train].log().mean()\n",
        "  print(loss.item())\n",
        "  weights.grad = None\n",
        "  loss.backward()\n",
        "\n",
        "  weights.data -= 10 * weights.grad"
      ],
      "metadata": {
        "colab": {
          "base_uri": "https://localhost:8080/"
        },
        "id": "GjUkBM6ac6CA",
        "outputId": "463710d4-a329-45b6-800f-2e5413e33b1c"
      },
      "execution_count": 10,
      "outputs": [
        {
          "output_type": "stream",
          "name": "stdout",
          "text": [
            "3.8312082290649414\n",
            "3.7332217693328857\n",
            "3.648383378982544\n",
            "3.5738685131073\n",
            "3.5078284740448\n",
            "3.4488959312438965\n",
            "3.395967960357666\n",
            "3.3481147289276123\n",
            "3.3045473098754883\n",
            "3.2646026611328125\n",
            "3.2277414798736572\n",
            "3.193530559539795\n",
            "3.161630868911743\n",
            "3.13177752494812\n",
            "3.103762149810791\n",
            "3.077420949935913\n",
            "3.052619457244873\n",
            "3.0292465686798096\n",
            "3.007207155227661\n",
            "2.9864161014556885\n",
            "2.9667959213256836\n",
            "2.9482762813568115\n",
            "2.930790662765503\n",
            "2.914275884628296\n",
            "2.898671865463257\n",
            "2.883922815322876\n",
            "2.8699750900268555\n",
            "2.8567793369293213\n",
            "2.8442885875701904\n",
            "2.8324594497680664\n",
            "2.8212509155273438\n",
            "2.8106255531311035\n",
            "2.800548553466797\n",
            "2.7909865379333496\n",
            "2.781909704208374\n",
            "2.7732889652252197\n",
            "2.7650976181030273\n",
            "2.757310390472412\n",
            "2.7499032020568848\n",
            "2.7428531646728516\n",
            "2.7361392974853516\n",
            "2.729740858078003\n",
            "2.7236390113830566\n",
            "2.7178142070770264\n",
            "2.7122507095336914\n",
            "2.7069313526153564\n",
            "2.7018399238586426\n",
            "2.6969635486602783\n",
            "2.6922876834869385\n",
            "2.687800168991089\n",
            "2.6834888458251953\n",
            "2.67934250831604\n",
            "2.675351858139038\n",
            "2.671506404876709\n",
            "2.6677985191345215\n",
            "2.6642189025878906\n",
            "2.6607611179351807\n",
            "2.6574177742004395\n",
            "2.6541826725006104\n",
            "2.6510496139526367\n",
            "2.6480133533477783\n",
            "2.645069122314453\n",
            "2.6422119140625\n",
            "2.639437437057495\n",
            "2.6367416381835938\n",
            "2.6341211795806885\n",
            "2.6315715312957764\n",
            "2.6290910243988037\n",
            "2.6266753673553467\n",
            "2.6243224143981934\n",
            "2.6220290660858154\n",
            "2.619793176651001\n",
            "2.617611885070801\n",
            "2.6154839992523193\n",
            "2.6134066581726074\n",
            "2.6113784313201904\n",
            "2.6093969345092773\n",
            "2.6074609756469727\n",
            "2.6055681705474854\n",
            "2.603717803955078\n",
            "2.601907730102539\n",
            "2.600137233734131\n",
            "2.598404884338379\n",
            "2.5967085361480713\n",
            "2.595047950744629\n",
            "2.593421697616577\n",
            "2.5918285846710205\n",
            "2.5902676582336426\n",
            "2.588737964630127\n",
            "2.5872385501861572\n",
            "2.585767984390259\n",
            "2.5843262672424316\n",
            "2.5829122066497803\n",
            "2.581524610519409\n",
            "2.58016300201416\n",
            "2.578827142715454\n",
            "2.5775156021118164\n",
            "2.576227903366089\n",
            "2.5749638080596924\n",
            "2.5737221240997314\n"
          ]
        }
      ]
    },
    {
      "cell_type": "code",
      "source": [
        "for i in range(5):\n",
        "  name = \"\"\n",
        "  ix = 0\n",
        "  while True:\n",
        "    X_encoded = torch.nn.functional.one_hot(X_test[ix], num_classes=27).squeeze(1).float()\n",
        "    logits = X_encoded @ weights\n",
        "    freq = logits.exp()\n",
        "    prob = freq/freq.sum(dim=1, keepdim=True)\n",
        "    ix = torch.multinomial(prob, num_samples=1, replacement = True).item()\n",
        "    name+=intLUT[ix]\n",
        "    if ix == 0:\n",
        "      break\n",
        "  print(name)"
      ],
      "metadata": {
        "colab": {
          "base_uri": "https://localhost:8080/"
        },
        "id": "6-Pc6zd6uqV_",
        "outputId": "5b7b62ee-ffaa-41a4-9cf9-82b6a9817d33"
      },
      "execution_count": 14,
      "outputs": [
        {
          "output_type": "stream",
          "name": "stdout",
          "text": [
            "hsahkctkeie.\n",
            "mnahnobyyvrsaeahjmikaaxmhjq.\n",
            "bsv.\n",
            "f.\n",
            "ae.\n"
          ]
        }
      ]
    }
  ]
}